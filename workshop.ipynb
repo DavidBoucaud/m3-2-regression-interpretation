{
 "nbformat": 4,
 "nbformat_minor": 2,
 "metadata": {
  "language_info": {
   "name": "python",
   "codemirror_mode": {
    "name": "ipython",
    "version": 3
   },
   "version": "3.7.4-final"
  },
  "orig_nbformat": 2,
  "file_extension": ".py",
  "mimetype": "text/x-python",
  "name": "python",
  "npconvert_exporter": "python",
  "pygments_lexer": "ipython3",
  "version": 3,
  "kernelspec": {
   "name": "python3",
   "display_name": "Python 3"
  }
 },
 "cells": [
  {
   "cell_type": "markdown",
   "metadata": {},
   "source": [
    "# 1. Regressive Tennis T-Test\n",
    "\n",
    "Use a linear regression and statsmodels to run a t-test on whether Federer scores more points than his opponents in the `tennis.csv` dataset.\n",
    "\n",
    "Give a one-paragraph interpretation of the coefficient, and the meaning of the p-value. \n",
    "\n",
    "Also answer the following: should your regression include a constant term? Why or why not? How would it change the interpretation of your coefficient and p-value?"
   ]
  },
  {
   "cell_type": "markdown",
   "metadata": {},
   "source": [
    "# 2. College admissions\n",
    "\n",
    "Using the `college.csv` dataset, answer the following:\n",
    "\n",
    "1. Is the relation between `Top10perc` and `Top25perc` best fit using a model with only one variable, or one variable and a polynomial of degree 2? Is a constant term useful? How would you select for the best of these model specifications?\n",
    "\n",
    "2. Do private schools see more admissions overall? T-test this using a linear regression. Hint: use a binary explanatory variable for `Private`. Explain your model specification choices.\n"
   ]
  },
  {
   "cell_type": "markdown",
   "metadata": {},
   "source": [
    "# 3. Auto prediction\n",
    "\n",
    "Using the `auto.csv` dataset, perform a simple linear regression with `mpg` as the response variable and horsepower as the predictor. Answer the following:\n",
    "\n",
    " i. Is there a relationship between the predictor and the response?\n",
    " \n",
    " ii. How strong is the relationship between the predictor and the response?\n",
    " \n",
    " iii. Is the relationship between the predictor and the response positive or negative?\n",
    "\n",
    " iv. What is the predicted mpg associated with a horsepower of 98? What are the associated 95 % confidence and prediction intervals ?\n",
    "\n",
    " v. Make a regression plot the response and the predictor."
   ]
  },
  {
   "cell_type": "markdown",
   "metadata": {},
   "source": [
    "# 4. Auto Multiple Regression\n",
    "\n",
    "Perform a multiple linear regression with `mpg` as the response and all other variables except name in `auto` as the predictors. Comment on the output:\n",
    "\n",
    "i. Is there a relationship between the predictors and the response?\n",
    "\n",
    "ii. Which predictors appear to have a statistically significant relationship to the response?\n",
    "\n",
    "iii. What does the coefficient for the year variable suggest?\n",
    "\n",
    "iv. Comment on any problems you see with the fit. Do the residual plots suggest any unusually large outliers?\n",
    "\n",
    "v. Is there heteroscedasticity in the fit?"
   ]
  },
  {
   "cell_type": "markdown",
   "metadata": {},
   "source": [
    "# 5. Car Seats\n",
    "\n",
    "This question should be answered using the Carseats data set\n",
    "\n",
    "1. Fit a multiple regression model to predict Sales using Price, Urban, and US.\n",
    "\n",
    "2. Provide an interpretation of each coefficient in the model. Be careful—some of the variables in the model are qualitative!\n",
    "\n",
    "3. For which of the predictors can you reject the null hypothesis H0 : βj = 0?\n",
    "\n",
    "4. On the basis of your response to the previous question, fit a smaller model that only uses the predictors for which there is evidence of association with the outcome.\n",
    "\n",
    "5. How well do the models in 1 and 4 fit the data? Explain which statistics show the difference.\n",
    "\n",
    "6. Using the model from (e), obtain 95 % confidence intervals for the coefficient(s)."
   ]
  },
  {
   "cell_type": "code",
   "execution_count": null,
   "metadata": {},
   "outputs": [],
   "source": [
    "\n"
   ]
  }
 ]
}